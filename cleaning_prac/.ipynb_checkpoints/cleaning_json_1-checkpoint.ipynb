{
 "cells": [
  {
   "cell_type": "markdown",
   "metadata": {},
   "source": [
    "<h2>Parsing & Cleaning JSON Data</h2>\n",
    "<h4>This is a short walkthrough of how to clean JSON data, which can be very tricky because fields can be embedded or formatted incorrectly.</h4>"
   ]
  },
  {
   "cell_type": "code",
   "execution_count": 2,
   "metadata": {},
   "outputs": [],
   "source": [
    "import pandas as pd\n",
    "import numpy as np\n",
    "import urllib\n",
    "import re\n",
    "import ast\n",
    "import json"
   ]
  },
  {
   "cell_type": "markdown",
   "metadata": {},
   "source": [
    "<h3>Step 1: Downloading the dataset</h3>\n",
    "<p>We are working with data that contains information on nobel prize winners. The data comes from an open dataset in an API format. Authentication is not required so the dataset can be freely downloaded wthout a key.</p>\n",
    "<p>The first problem we run into is that double quotes are utilized. If we attempt to parse the data without getting rid of these we will run into errors. To circumvent this, we will dump the data and replace the double quotes with blanks. This way when the data can be parsed as a JSON dataset correctly using ast.literal_eval</p>"
   ]
  },
  {
   "cell_type": "code",
   "execution_count": 3,
   "metadata": {},
   "outputs": [],
   "source": [
    "url = \"http://api.nobelprize.org/v1/prize.json\"\n",
    "data= json.load(urllib.request.urlopen(url))\n",
    "data2 = json.dumps(data)"
   ]
  },
  {
   "cell_type": "code",
   "execution_count": 4,
   "metadata": {},
   "outputs": [],
   "source": [
    "data2 = data2.replace('\\\\\"','')"
   ]
  },
  {
   "cell_type": "code",
   "execution_count": 6,
   "metadata": {},
   "outputs": [
    {
     "data": {
      "text/plain": [
       "'{\"prizes\": [{\"year\": \"2019\", \"category\": \"chemistry\", \"laureates\": [{\"id\": \"976\", \"firstname\": \"John\", \"surname\": \"Goodenough\", \"motivation\": \"for the development of lithium-ion batteries\", \"share\": \"3\"}, {\"id\": \"977\", \"firstname\": \"M. Stanley\", \"surname\": \"Whittingham\", \"motivation\": \"for the development of lithium-ion batteries\", \"share\": \"3\"}, {\"id\": \"978\", \"firstname\": \"Akira\", \"surname\": \"Yoshino\", \"motivation\": \"for the development of lithium-ion batteries\", \"share\": \"3\"}]}, {\"year\": \"2019\", \"category\": \"economics\", \"laureates\": [{\"id\": \"982\", \"firstname\": \"Abhijit\", \"surname\": \"Banerjee\", \"motivation\": \"for their experimental approach to alleviating global poverty\", \"share\": \"3\"}, {\"id\": \"983\", \"firstname\": \"Esther\", \"surname\": \"Duflo\", \"motivation\": \"for their experimental approach to alleviating global poverty\", \"share\": \"3\"}, {\"id\": \"984\", \"firstname\": \"Michael\", \"surname\": \"Kremer\", \"motivation\": \"for their experimental approach to alleviating global poverty\", \"share\": \"3\"}]'"
      ]
     },
     "execution_count": 6,
     "metadata": {},
     "output_type": "execute_result"
    }
   ],
   "source": [
    "data2[:1000]"
   ]
  },
  {
   "cell_type": "code",
   "execution_count": 7,
   "metadata": {},
   "outputs": [],
   "source": [
    "data2 = ast.literal_eval(data2)"
   ]
  },
  {
   "cell_type": "code",
   "execution_count": 10,
   "metadata": {},
   "outputs": [
    {
     "data": {
      "text/plain": [
       "[{'year': '2019',\n",
       "  'category': 'chemistry',\n",
       "  'laureates': [{'id': '976',\n",
       "    'firstname': 'John',\n",
       "    'surname': 'Goodenough',\n",
       "    'motivation': 'for the development of lithium-ion batteries',\n",
       "    'share': '3'},\n",
       "   {'id': '977',\n",
       "    'firstname': 'M. Stanley',\n",
       "    'surname': 'Whittingham',\n",
       "    'motivation': 'for the development of lithium-ion batteries',\n",
       "    'share': '3'},\n",
       "   {'id': '978',\n",
       "    'firstname': 'Akira',\n",
       "    'surname': 'Yoshino',\n",
       "    'motivation': 'for the development of lithium-ion batteries',\n",
       "    'share': '3'}]},\n",
       " {'year': '2019',\n",
       "  'category': 'economics',\n",
       "  'laureates': [{'id': '982',\n",
       "    'firstname': 'Abhijit',\n",
       "    'surname': 'Banerjee',\n",
       "    'motivation': 'for their experimental approach to alleviating global poverty',\n",
       "    'share': '3'},\n",
       "   {'id': '983',\n",
       "    'firstname': 'Esther',\n",
       "    'surname': 'Duflo',\n",
       "    'motivation': 'for their experimental approach to alleviating global poverty',\n",
       "    'share': '3'},\n",
       "   {'id': '984',\n",
       "    'firstname': 'Michael',\n",
       "    'surname': 'Kremer',\n",
       "    'motivation': 'for their experimental approach to alleviating global poverty',\n",
       "    'share': '3'}]}]"
      ]
     },
     "execution_count": 10,
     "metadata": {},
     "output_type": "execute_result"
    }
   ],
   "source": [
    "data2['prizes'][:2]"
   ]
  },
  {
   "cell_type": "markdown",
   "metadata": {},
   "source": [
    "<h3>Step 2: Flattening the embedded data</h3> \n",
    "<p>Now that we have the data in a form that can be correclty parsed we need to turn the embedded data into a flat dataset.</p>"
   ]
  },
  {
   "cell_type": "code",
   "execution_count": 7,
   "metadata": {},
   "outputs": [],
   "source": [
    "df = pd.json_normalize(data2['prizes'])"
   ]
  },
  {
   "cell_type": "code",
   "execution_count": 8,
   "metadata": {},
   "outputs": [
    {
     "data": {
      "text/html": [
       "<div>\n",
       "<style scoped>\n",
       "    .dataframe tbody tr th:only-of-type {\n",
       "        vertical-align: middle;\n",
       "    }\n",
       "\n",
       "    .dataframe tbody tr th {\n",
       "        vertical-align: top;\n",
       "    }\n",
       "\n",
       "    .dataframe thead th {\n",
       "        text-align: right;\n",
       "    }\n",
       "</style>\n",
       "<table border=\"1\" class=\"dataframe\">\n",
       "  <thead>\n",
       "    <tr style=\"text-align: right;\">\n",
       "      <th></th>\n",
       "      <th>year</th>\n",
       "      <th>category</th>\n",
       "      <th>laureates</th>\n",
       "      <th>overallMotivation</th>\n",
       "    </tr>\n",
       "  </thead>\n",
       "  <tbody>\n",
       "    <tr>\n",
       "      <th>0</th>\n",
       "      <td>2019</td>\n",
       "      <td>chemistry</td>\n",
       "      <td>[{'id': '976', 'firstname': 'John', 'surname':...</td>\n",
       "      <td>NaN</td>\n",
       "    </tr>\n",
       "    <tr>\n",
       "      <th>1</th>\n",
       "      <td>2019</td>\n",
       "      <td>economics</td>\n",
       "      <td>[{'id': '982', 'firstname': 'Abhijit', 'surnam...</td>\n",
       "      <td>NaN</td>\n",
       "    </tr>\n",
       "    <tr>\n",
       "      <th>2</th>\n",
       "      <td>2019</td>\n",
       "      <td>literature</td>\n",
       "      <td>[{'id': '980', 'firstname': 'Peter', 'surname'...</td>\n",
       "      <td>NaN</td>\n",
       "    </tr>\n",
       "    <tr>\n",
       "      <th>3</th>\n",
       "      <td>2019</td>\n",
       "      <td>peace</td>\n",
       "      <td>[{'id': '981', 'firstname': 'Abiy', 'surname':...</td>\n",
       "      <td>NaN</td>\n",
       "    </tr>\n",
       "    <tr>\n",
       "      <th>4</th>\n",
       "      <td>2019</td>\n",
       "      <td>physics</td>\n",
       "      <td>[{'id': '973', 'firstname': 'James', 'surname'...</td>\n",
       "      <td>for contributions to our understanding of the ...</td>\n",
       "    </tr>\n",
       "  </tbody>\n",
       "</table>\n",
       "</div>"
      ],
      "text/plain": [
       "   year    category                                          laureates  \\\n",
       "0  2019   chemistry  [{'id': '976', 'firstname': 'John', 'surname':...   \n",
       "1  2019   economics  [{'id': '982', 'firstname': 'Abhijit', 'surnam...   \n",
       "2  2019  literature  [{'id': '980', 'firstname': 'Peter', 'surname'...   \n",
       "3  2019       peace  [{'id': '981', 'firstname': 'Abiy', 'surname':...   \n",
       "4  2019     physics  [{'id': '973', 'firstname': 'James', 'surname'...   \n",
       "\n",
       "                                   overallMotivation  \n",
       "0                                                NaN  \n",
       "1                                                NaN  \n",
       "2                                                NaN  \n",
       "3                                                NaN  \n",
       "4  for contributions to our understanding of the ...  "
      ]
     },
     "execution_count": 8,
     "metadata": {},
     "output_type": "execute_result"
    }
   ],
   "source": [
    "df.head()"
   ]
  },
  {
   "cell_type": "code",
   "execution_count": 9,
   "metadata": {},
   "outputs": [
    {
     "name": "stdout",
     "output_type": "stream",
     "text": [
      "<class 'pandas.core.frame.DataFrame'>\n",
      "RangeIndex: 646 entries, 0 to 645\n",
      "Data columns (total 4 columns):\n",
      " #   Column             Non-Null Count  Dtype \n",
      "---  ------             --------------  ----- \n",
      " 0   year               646 non-null    object\n",
      " 1   category           646 non-null    object\n",
      " 2   laureates          597 non-null    object\n",
      " 3   overallMotivation  57 non-null     object\n",
      "dtypes: object(4)\n",
      "memory usage: 20.3+ KB\n"
     ]
    }
   ],
   "source": [
    "df.info()"
   ]
  },
  {
   "cell_type": "code",
   "execution_count": 10,
   "metadata": {},
   "outputs": [
    {
     "data": {
      "text/plain": [
       "[{'id': '976',\n",
       "  'firstname': 'John',\n",
       "  'surname': 'Goodenough',\n",
       "  'motivation': 'for the development of lithium-ion batteries',\n",
       "  'share': '3'},\n",
       " {'id': '977',\n",
       "  'firstname': 'M. Stanley',\n",
       "  'surname': 'Whittingham',\n",
       "  'motivation': 'for the development of lithium-ion batteries',\n",
       "  'share': '3'},\n",
       " {'id': '978',\n",
       "  'firstname': 'Akira',\n",
       "  'surname': 'Yoshino',\n",
       "  'motivation': 'for the development of lithium-ion batteries',\n",
       "  'share': '3'}]"
      ]
     },
     "execution_count": 10,
     "metadata": {},
     "output_type": "execute_result"
    }
   ],
   "source": [
    "df['laureates'][0]"
   ]
  },
  {
   "cell_type": "markdown",
   "metadata": {},
   "source": [
    "<p>There appears to be an \"id\" field embedded in the laureates column as well as info about the nobel prize winners when more than one individual wins the prize. We will  break the data out and have one user on each row."
   ]
  },
  {
   "cell_type": "markdown",
   "metadata": {},
   "source": [
    "<h4>A row for each winner</h4>"
   ]
  },
  {
   "cell_type": "code",
   "execution_count": 11,
   "metadata": {},
   "outputs": [],
   "source": [
    "laureates = (df.laureates.apply(pd.Series).stack().reset_index(level=1, drop=True).to_frame('laureates'))"
   ]
  },
  {
   "cell_type": "code",
   "execution_count": 12,
   "metadata": {},
   "outputs": [
    {
     "data": {
      "text/html": [
       "<div>\n",
       "<style scoped>\n",
       "    .dataframe tbody tr th:only-of-type {\n",
       "        vertical-align: middle;\n",
       "    }\n",
       "\n",
       "    .dataframe tbody tr th {\n",
       "        vertical-align: top;\n",
       "    }\n",
       "\n",
       "    .dataframe thead th {\n",
       "        text-align: right;\n",
       "    }\n",
       "</style>\n",
       "<table border=\"1\" class=\"dataframe\">\n",
       "  <thead>\n",
       "    <tr style=\"text-align: right;\">\n",
       "      <th></th>\n",
       "      <th>laureates</th>\n",
       "    </tr>\n",
       "  </thead>\n",
       "  <tbody>\n",
       "    <tr>\n",
       "      <th>0</th>\n",
       "      <td>{'id': '976', 'firstname': 'John', 'surname': ...</td>\n",
       "    </tr>\n",
       "    <tr>\n",
       "      <th>0</th>\n",
       "      <td>{'id': '977', 'firstname': 'M. Stanley', 'surn...</td>\n",
       "    </tr>\n",
       "    <tr>\n",
       "      <th>0</th>\n",
       "      <td>{'id': '978', 'firstname': 'Akira', 'surname':...</td>\n",
       "    </tr>\n",
       "    <tr>\n",
       "      <th>1</th>\n",
       "      <td>{'id': '982', 'firstname': 'Abhijit', 'surname...</td>\n",
       "    </tr>\n",
       "    <tr>\n",
       "      <th>1</th>\n",
       "      <td>{'id': '983', 'firstname': 'Esther', 'surname'...</td>\n",
       "    </tr>\n",
       "  </tbody>\n",
       "</table>\n",
       "</div>"
      ],
      "text/plain": [
       "                                           laureates\n",
       "0  {'id': '976', 'firstname': 'John', 'surname': ...\n",
       "0  {'id': '977', 'firstname': 'M. Stanley', 'surn...\n",
       "0  {'id': '978', 'firstname': 'Akira', 'surname':...\n",
       "1  {'id': '982', 'firstname': 'Abhijit', 'surname...\n",
       "1  {'id': '983', 'firstname': 'Esther', 'surname'..."
      ]
     },
     "execution_count": 12,
     "metadata": {},
     "output_type": "execute_result"
    }
   ],
   "source": [
    "laureates.head()"
   ]
  },
  {
   "cell_type": "markdown",
   "metadata": {},
   "source": [
    "<p>We need to add a key so that we can join the dataframes together again</p>"
   ]
  },
  {
   "cell_type": "code",
   "execution_count": 13,
   "metadata": {},
   "outputs": [],
   "source": [
    "df['key'] = df.index\n",
    "laureates['key'] = laureates.index"
   ]
  },
  {
   "cell_type": "code",
   "execution_count": 14,
   "metadata": {},
   "outputs": [],
   "source": [
    "df = df.join(laureates, on='key', how='left', lsuffix='_left', rsuffix='right')"
   ]
  },
  {
   "cell_type": "code",
   "execution_count": 15,
   "metadata": {},
   "outputs": [],
   "source": [
    "df.drop(columns=['laureates_left'], inplace=True)"
   ]
  },
  {
   "cell_type": "code",
   "execution_count": 16,
   "metadata": {},
   "outputs": [
    {
     "data": {
      "text/plain": [
       "0    {'id': '976', 'firstname': 'John', 'surname': ...\n",
       "0    {'id': '977', 'firstname': 'M. Stanley', 'surn...\n",
       "0    {'id': '978', 'firstname': 'Akira', 'surname':...\n",
       "1    {'id': '982', 'firstname': 'Abhijit', 'surname...\n",
       "1    {'id': '983', 'firstname': 'Esther', 'surname'...\n",
       "Name: laureatesright, dtype: object"
      ]
     },
     "execution_count": 16,
     "metadata": {},
     "output_type": "execute_result"
    }
   ],
   "source": [
    "df['laureatesright'].head()"
   ]
  },
  {
   "cell_type": "code",
   "execution_count": 17,
   "metadata": {},
   "outputs": [],
   "source": [
    "df = df.reset_index(drop=True)"
   ]
  },
  {
   "cell_type": "code",
   "execution_count": 18,
   "metadata": {},
   "outputs": [
    {
     "data": {
      "text/html": [
       "<div>\n",
       "<style scoped>\n",
       "    .dataframe tbody tr th:only-of-type {\n",
       "        vertical-align: middle;\n",
       "    }\n",
       "\n",
       "    .dataframe tbody tr th {\n",
       "        vertical-align: top;\n",
       "    }\n",
       "\n",
       "    .dataframe thead th {\n",
       "        text-align: right;\n",
       "    }\n",
       "</style>\n",
       "<table border=\"1\" class=\"dataframe\">\n",
       "  <thead>\n",
       "    <tr style=\"text-align: right;\">\n",
       "      <th></th>\n",
       "      <th>key</th>\n",
       "      <th>year</th>\n",
       "      <th>category</th>\n",
       "      <th>overallMotivation</th>\n",
       "      <th>key_left</th>\n",
       "      <th>laureatesright</th>\n",
       "      <th>keyright</th>\n",
       "    </tr>\n",
       "  </thead>\n",
       "  <tbody>\n",
       "    <tr>\n",
       "      <th>0</th>\n",
       "      <td>0</td>\n",
       "      <td>2019</td>\n",
       "      <td>chemistry</td>\n",
       "      <td>NaN</td>\n",
       "      <td>0</td>\n",
       "      <td>{'id': '976', 'firstname': 'John', 'surname': ...</td>\n",
       "      <td>0.0</td>\n",
       "    </tr>\n",
       "    <tr>\n",
       "      <th>1</th>\n",
       "      <td>0</td>\n",
       "      <td>2019</td>\n",
       "      <td>chemistry</td>\n",
       "      <td>NaN</td>\n",
       "      <td>0</td>\n",
       "      <td>{'id': '977', 'firstname': 'M. Stanley', 'surn...</td>\n",
       "      <td>0.0</td>\n",
       "    </tr>\n",
       "    <tr>\n",
       "      <th>2</th>\n",
       "      <td>0</td>\n",
       "      <td>2019</td>\n",
       "      <td>chemistry</td>\n",
       "      <td>NaN</td>\n",
       "      <td>0</td>\n",
       "      <td>{'id': '978', 'firstname': 'Akira', 'surname':...</td>\n",
       "      <td>0.0</td>\n",
       "    </tr>\n",
       "    <tr>\n",
       "      <th>3</th>\n",
       "      <td>1</td>\n",
       "      <td>2019</td>\n",
       "      <td>economics</td>\n",
       "      <td>NaN</td>\n",
       "      <td>1</td>\n",
       "      <td>{'id': '982', 'firstname': 'Abhijit', 'surname...</td>\n",
       "      <td>1.0</td>\n",
       "    </tr>\n",
       "    <tr>\n",
       "      <th>4</th>\n",
       "      <td>1</td>\n",
       "      <td>2019</td>\n",
       "      <td>economics</td>\n",
       "      <td>NaN</td>\n",
       "      <td>1</td>\n",
       "      <td>{'id': '983', 'firstname': 'Esther', 'surname'...</td>\n",
       "      <td>1.0</td>\n",
       "    </tr>\n",
       "  </tbody>\n",
       "</table>\n",
       "</div>"
      ],
      "text/plain": [
       "   key  year   category overallMotivation  key_left  \\\n",
       "0    0  2019  chemistry               NaN         0   \n",
       "1    0  2019  chemistry               NaN         0   \n",
       "2    0  2019  chemistry               NaN         0   \n",
       "3    1  2019  economics               NaN         1   \n",
       "4    1  2019  economics               NaN         1   \n",
       "\n",
       "                                      laureatesright  keyright  \n",
       "0  {'id': '976', 'firstname': 'John', 'surname': ...       0.0  \n",
       "1  {'id': '977', 'firstname': 'M. Stanley', 'surn...       0.0  \n",
       "2  {'id': '978', 'firstname': 'Akira', 'surname':...       0.0  \n",
       "3  {'id': '982', 'firstname': 'Abhijit', 'surname...       1.0  \n",
       "4  {'id': '983', 'firstname': 'Esther', 'surname'...       1.0  "
      ]
     },
     "execution_count": 18,
     "metadata": {},
     "output_type": "execute_result"
    }
   ],
   "source": [
    "df.head()"
   ]
  },
  {
   "cell_type": "markdown",
   "metadata": {},
   "source": [
    "<p>We now have a row for every winner and the only other step we need to make is creating individual columns for the data in the laureates column.</p>"
   ]
  },
  {
   "cell_type": "code",
   "execution_count": 19,
   "metadata": {},
   "outputs": [],
   "source": [
    "import requests\n",
    "import codecs\n",
    "import json\n",
    "\n",
    "from codecs import raw_unicode_escape_decode"
   ]
  },
  {
   "cell_type": "code",
   "execution_count": 20,
   "metadata": {},
   "outputs": [],
   "source": [
    "df3 = df['laureatesright'].apply(pd.Series).reset_index(drop=True)\n",
    "df = df.reset_index(drop=True)"
   ]
  },
  {
   "cell_type": "code",
   "execution_count": 21,
   "metadata": {},
   "outputs": [],
   "source": [
    "df['key'] = df.index\n",
    "df3['key'] = df3.index"
   ]
  },
  {
   "cell_type": "code",
   "execution_count": 22,
   "metadata": {
    "scrolled": false
   },
   "outputs": [],
   "source": [
    "df = df.merge(df3, left_on='key', right_on='key')"
   ]
  },
  {
   "cell_type": "markdown",
   "metadata": {},
   "source": [
    "<p>We've done it. We now have a column for each of the nobel laureates</p>"
   ]
  },
  {
   "cell_type": "markdown",
   "metadata": {},
   "source": [
    "<h3>Step 3: Cleaning the Data</h3>\n",
    "<p>Now that we have a flat file we will clean the dataset</p>"
   ]
  },
  {
   "cell_type": "code",
   "execution_count": 23,
   "metadata": {},
   "outputs": [
    {
     "name": "stdout",
     "output_type": "stream",
     "text": [
      "<class 'pandas.core.frame.DataFrame'>\n",
      "Int64Index: 999 entries, 0 to 998\n",
      "Data columns (total 13 columns):\n",
      " #   Column             Non-Null Count  Dtype  \n",
      "---  ------             --------------  -----  \n",
      " 0   key                999 non-null    int64  \n",
      " 1   year               999 non-null    object \n",
      " 2   category           999 non-null    object \n",
      " 3   overallMotivation  69 non-null     object \n",
      " 4   key_left           999 non-null    int64  \n",
      " 5   laureatesright     950 non-null    object \n",
      " 6   keyright           950 non-null    float64\n",
      " 7   0                  0 non-null      float64\n",
      " 8   firstname          950 non-null    object \n",
      " 9   id                 950 non-null    object \n",
      " 10  motivation         950 non-null    object \n",
      " 11  share              950 non-null    object \n",
      " 12  surname            921 non-null    object \n",
      "dtypes: float64(2), int64(2), object(9)\n",
      "memory usage: 109.3+ KB\n"
     ]
    }
   ],
   "source": [
    "df.info()"
   ]
  },
  {
   "cell_type": "markdown",
   "metadata": {},
   "source": [
    "<p>There appear to be 49 rows where no winner is listed. We'll find out if this is an issue with the data or if there is an explanation.</p>"
   ]
  },
  {
   "cell_type": "code",
   "execution_count": 24,
   "metadata": {},
   "outputs": [],
   "source": [
    "df_nan = df[df[['laureatesright']].isna().any(axis=1)]"
   ]
  },
  {
   "cell_type": "code",
   "execution_count": 25,
   "metadata": {},
   "outputs": [
    {
     "data": {
      "text/html": [
       "<div>\n",
       "<style scoped>\n",
       "    .dataframe tbody tr th:only-of-type {\n",
       "        vertical-align: middle;\n",
       "    }\n",
       "\n",
       "    .dataframe tbody tr th {\n",
       "        vertical-align: top;\n",
       "    }\n",
       "\n",
       "    .dataframe thead th {\n",
       "        text-align: right;\n",
       "    }\n",
       "</style>\n",
       "<table border=\"1\" class=\"dataframe\">\n",
       "  <thead>\n",
       "    <tr style=\"text-align: right;\">\n",
       "      <th></th>\n",
       "      <th>key</th>\n",
       "      <th>year</th>\n",
       "      <th>category</th>\n",
       "      <th>overallMotivation</th>\n",
       "      <th>key_left</th>\n",
       "      <th>laureatesright</th>\n",
       "      <th>keyright</th>\n",
       "      <th>0</th>\n",
       "      <th>firstname</th>\n",
       "      <th>id</th>\n",
       "      <th>motivation</th>\n",
       "      <th>share</th>\n",
       "      <th>surname</th>\n",
       "    </tr>\n",
       "  </thead>\n",
       "  <tbody>\n",
       "    <tr>\n",
       "      <th>529</th>\n",
       "      <td>529</td>\n",
       "      <td>1972</td>\n",
       "      <td>peace</td>\n",
       "      <td>No Nobel Prize was awarded this year. The priz...</td>\n",
       "      <td>285</td>\n",
       "      <td>NaN</td>\n",
       "      <td>NaN</td>\n",
       "      <td>NaN</td>\n",
       "      <td>NaN</td>\n",
       "      <td>NaN</td>\n",
       "      <td>NaN</td>\n",
       "      <td>NaN</td>\n",
       "      <td>NaN</td>\n",
       "    </tr>\n",
       "    <tr>\n",
       "      <th>571</th>\n",
       "      <td>571</td>\n",
       "      <td>1967</td>\n",
       "      <td>peace</td>\n",
       "      <td>No Nobel Prize was awarded this year. The priz...</td>\n",
       "      <td>313</td>\n",
       "      <td>NaN</td>\n",
       "      <td>NaN</td>\n",
       "      <td>NaN</td>\n",
       "      <td>NaN</td>\n",
       "      <td>NaN</td>\n",
       "      <td>NaN</td>\n",
       "      <td>NaN</td>\n",
       "      <td>NaN</td>\n",
       "    </tr>\n",
       "    <tr>\n",
       "      <th>579</th>\n",
       "      <td>579</td>\n",
       "      <td>1966</td>\n",
       "      <td>peace</td>\n",
       "      <td>No Nobel Prize was awarded this year. The priz...</td>\n",
       "      <td>318</td>\n",
       "      <td>NaN</td>\n",
       "      <td>NaN</td>\n",
       "      <td>NaN</td>\n",
       "      <td>NaN</td>\n",
       "      <td>NaN</td>\n",
       "      <td>NaN</td>\n",
       "      <td>NaN</td>\n",
       "      <td>NaN</td>\n",
       "    </tr>\n",
       "    <tr>\n",
       "      <th>656</th>\n",
       "      <td>656</td>\n",
       "      <td>1956</td>\n",
       "      <td>peace</td>\n",
       "      <td>No Nobel Prize was awarded this year. The priz...</td>\n",
       "      <td>368</td>\n",
       "      <td>NaN</td>\n",
       "      <td>NaN</td>\n",
       "      <td>NaN</td>\n",
       "      <td>NaN</td>\n",
       "      <td>NaN</td>\n",
       "      <td>NaN</td>\n",
       "      <td>NaN</td>\n",
       "      <td>NaN</td>\n",
       "    </tr>\n",
       "    <tr>\n",
       "      <th>665</th>\n",
       "      <td>665</td>\n",
       "      <td>1955</td>\n",
       "      <td>peace</td>\n",
       "      <td>No Nobel Prize was awarded this year. The priz...</td>\n",
       "      <td>373</td>\n",
       "      <td>NaN</td>\n",
       "      <td>NaN</td>\n",
       "      <td>NaN</td>\n",
       "      <td>NaN</td>\n",
       "      <td>NaN</td>\n",
       "      <td>NaN</td>\n",
       "      <td>NaN</td>\n",
       "      <td>NaN</td>\n",
       "    </tr>\n",
       "  </tbody>\n",
       "</table>\n",
       "</div>"
      ],
      "text/plain": [
       "     key  year category                                  overallMotivation  \\\n",
       "529  529  1972    peace  No Nobel Prize was awarded this year. The priz...   \n",
       "571  571  1967    peace  No Nobel Prize was awarded this year. The priz...   \n",
       "579  579  1966    peace  No Nobel Prize was awarded this year. The priz...   \n",
       "656  656  1956    peace  No Nobel Prize was awarded this year. The priz...   \n",
       "665  665  1955    peace  No Nobel Prize was awarded this year. The priz...   \n",
       "\n",
       "     key_left laureatesright  keyright   0 firstname   id motivation share  \\\n",
       "529       285            NaN       NaN NaN       NaN  NaN        NaN   NaN   \n",
       "571       313            NaN       NaN NaN       NaN  NaN        NaN   NaN   \n",
       "579       318            NaN       NaN NaN       NaN  NaN        NaN   NaN   \n",
       "656       368            NaN       NaN NaN       NaN  NaN        NaN   NaN   \n",
       "665       373            NaN       NaN NaN       NaN  NaN        NaN   NaN   \n",
       "\n",
       "    surname  \n",
       "529     NaN  \n",
       "571     NaN  \n",
       "579     NaN  \n",
       "656     NaN  \n",
       "665     NaN  "
      ]
     },
     "execution_count": 25,
     "metadata": {},
     "output_type": "execute_result"
    }
   ],
   "source": [
    "df_nan.head()"
   ]
  },
  {
   "cell_type": "code",
   "execution_count": 26,
   "metadata": {},
   "outputs": [
    {
     "data": {
      "text/plain": [
       "No Nobel Prize was awarded this year. The prize money was allocated to the Special Fund of this prize section.                                           24\n",
       "No Nobel Prize was awarded this year. The prize money was with 1/3 allocated to the Main Fund and with 2/3 to the Special Fund of this prize section.    24\n",
       "No Nobel Prize was awarded this year. The prize money for 1972 was allocated to the Main Fund.                                                            1\n",
       "Name: overallMotivation, dtype: int64"
      ]
     },
     "execution_count": 26,
     "metadata": {},
     "output_type": "execute_result"
    }
   ],
   "source": [
    "df_nan['overallMotivation'].value_counts()"
   ]
  },
  {
   "cell_type": "markdown",
   "metadata": {},
   "source": [
    "<p>We see that in the cases where there were no winners in the rows where the laureate column is null. We can delete these rows. Also, we no longer need the key columns</p>"
   ]
  },
  {
   "cell_type": "code",
   "execution_count": 27,
   "metadata": {},
   "outputs": [],
   "source": [
    "df = df[df['laureatesright'].notna()]"
   ]
  },
  {
   "cell_type": "code",
   "execution_count": 28,
   "metadata": {},
   "outputs": [
    {
     "name": "stdout",
     "output_type": "stream",
     "text": [
      "<class 'pandas.core.frame.DataFrame'>\n",
      "Int64Index: 950 entries, 0 to 998\n",
      "Data columns (total 13 columns):\n",
      " #   Column             Non-Null Count  Dtype  \n",
      "---  ------             --------------  -----  \n",
      " 0   key                950 non-null    int64  \n",
      " 1   year               950 non-null    object \n",
      " 2   category           950 non-null    object \n",
      " 3   overallMotivation  20 non-null     object \n",
      " 4   key_left           950 non-null    int64  \n",
      " 5   laureatesright     950 non-null    object \n",
      " 6   keyright           950 non-null    float64\n",
      " 7   0                  0 non-null      float64\n",
      " 8   firstname          950 non-null    object \n",
      " 9   id                 950 non-null    object \n",
      " 10  motivation         950 non-null    object \n",
      " 11  share              950 non-null    object \n",
      " 12  surname            921 non-null    object \n",
      "dtypes: float64(2), int64(2), object(9)\n",
      "memory usage: 103.9+ KB\n"
     ]
    }
   ],
   "source": [
    "df.info()"
   ]
  },
  {
   "cell_type": "markdown",
   "metadata": {},
   "source": [
    "<h4>Getting rid of unneeded columns/reformatting columns</h4>\n",
    "We can now get rid of redundant columns, columns used for re-merging the data and reformat columns."
   ]
  },
  {
   "cell_type": "code",
   "execution_count": 29,
   "metadata": {},
   "outputs": [],
   "source": [
    "df = df[['year', 'category', 'overallMotivation', 'id','firstname','surname', 'motivation', 'share']]"
   ]
  },
  {
   "cell_type": "code",
   "execution_count": 30,
   "metadata": {},
   "outputs": [
    {
     "data": {
      "text/html": [
       "<div>\n",
       "<style scoped>\n",
       "    .dataframe tbody tr th:only-of-type {\n",
       "        vertical-align: middle;\n",
       "    }\n",
       "\n",
       "    .dataframe tbody tr th {\n",
       "        vertical-align: top;\n",
       "    }\n",
       "\n",
       "    .dataframe thead th {\n",
       "        text-align: right;\n",
       "    }\n",
       "</style>\n",
       "<table border=\"1\" class=\"dataframe\">\n",
       "  <thead>\n",
       "    <tr style=\"text-align: right;\">\n",
       "      <th></th>\n",
       "      <th>year</th>\n",
       "      <th>category</th>\n",
       "      <th>overallMotivation</th>\n",
       "      <th>id</th>\n",
       "      <th>firstname</th>\n",
       "      <th>surname</th>\n",
       "      <th>motivation</th>\n",
       "      <th>share</th>\n",
       "    </tr>\n",
       "  </thead>\n",
       "  <tbody>\n",
       "    <tr>\n",
       "      <th>0</th>\n",
       "      <td>2019</td>\n",
       "      <td>chemistry</td>\n",
       "      <td>NaN</td>\n",
       "      <td>976</td>\n",
       "      <td>John</td>\n",
       "      <td>Goodenough</td>\n",
       "      <td>for the development of lithium-ion batteries</td>\n",
       "      <td>3</td>\n",
       "    </tr>\n",
       "    <tr>\n",
       "      <th>1</th>\n",
       "      <td>2019</td>\n",
       "      <td>chemistry</td>\n",
       "      <td>NaN</td>\n",
       "      <td>977</td>\n",
       "      <td>M. Stanley</td>\n",
       "      <td>Whittingham</td>\n",
       "      <td>for the development of lithium-ion batteries</td>\n",
       "      <td>3</td>\n",
       "    </tr>\n",
       "    <tr>\n",
       "      <th>2</th>\n",
       "      <td>2019</td>\n",
       "      <td>chemistry</td>\n",
       "      <td>NaN</td>\n",
       "      <td>978</td>\n",
       "      <td>Akira</td>\n",
       "      <td>Yoshino</td>\n",
       "      <td>for the development of lithium-ion batteries</td>\n",
       "      <td>3</td>\n",
       "    </tr>\n",
       "    <tr>\n",
       "      <th>3</th>\n",
       "      <td>2019</td>\n",
       "      <td>economics</td>\n",
       "      <td>NaN</td>\n",
       "      <td>982</td>\n",
       "      <td>Abhijit</td>\n",
       "      <td>Banerjee</td>\n",
       "      <td>for their experimental approach to alleviating...</td>\n",
       "      <td>3</td>\n",
       "    </tr>\n",
       "    <tr>\n",
       "      <th>4</th>\n",
       "      <td>2019</td>\n",
       "      <td>economics</td>\n",
       "      <td>NaN</td>\n",
       "      <td>983</td>\n",
       "      <td>Esther</td>\n",
       "      <td>Duflo</td>\n",
       "      <td>for their experimental approach to alleviating...</td>\n",
       "      <td>3</td>\n",
       "    </tr>\n",
       "  </tbody>\n",
       "</table>\n",
       "</div>"
      ],
      "text/plain": [
       "   year   category overallMotivation   id   firstname      surname  \\\n",
       "0  2019  chemistry               NaN  976        John   Goodenough   \n",
       "1  2019  chemistry               NaN  977  M. Stanley  Whittingham   \n",
       "2  2019  chemistry               NaN  978       Akira      Yoshino   \n",
       "3  2019  economics               NaN  982     Abhijit     Banerjee   \n",
       "4  2019  economics               NaN  983      Esther        Duflo   \n",
       "\n",
       "                                          motivation share  \n",
       "0       for the development of lithium-ion batteries     3  \n",
       "1       for the development of lithium-ion batteries     3  \n",
       "2       for the development of lithium-ion batteries     3  \n",
       "3  for their experimental approach to alleviating...     3  \n",
       "4  for their experimental approach to alleviating...     3  "
      ]
     },
     "execution_count": 30,
     "metadata": {},
     "output_type": "execute_result"
    }
   ],
   "source": [
    "df.head()"
   ]
  },
  {
   "cell_type": "code",
   "execution_count": 31,
   "metadata": {},
   "outputs": [
    {
     "name": "stdout",
     "output_type": "stream",
     "text": [
      "<class 'pandas.core.frame.DataFrame'>\n",
      "Int64Index: 950 entries, 0 to 998\n",
      "Data columns (total 8 columns):\n",
      " #   Column             Non-Null Count  Dtype \n",
      "---  ------             --------------  ----- \n",
      " 0   year               950 non-null    object\n",
      " 1   category           950 non-null    object\n",
      " 2   overallMotivation  20 non-null     object\n",
      " 3   id                 950 non-null    object\n",
      " 4   firstname          950 non-null    object\n",
      " 5   surname            921 non-null    object\n",
      " 6   motivation         950 non-null    object\n",
      " 7   share              950 non-null    object\n",
      "dtypes: object(8)\n",
      "memory usage: 66.8+ KB\n"
     ]
    }
   ],
   "source": [
    "df.info()"
   ]
  },
  {
   "cell_type": "markdown",
   "metadata": {},
   "source": [
    "<p>We should now cast our numerical column as integers</p>"
   ]
  },
  {
   "cell_type": "code",
   "execution_count": 32,
   "metadata": {},
   "outputs": [],
   "source": [
    "df.index =df.id.astype(int)"
   ]
  },
  {
   "cell_type": "code",
   "execution_count": 39,
   "metadata": {},
   "outputs": [],
   "source": [
    "df['year'] = df['year'].astype(int)\n",
    "df['share'] = df['share'].astype(int)"
   ]
  },
  {
   "cell_type": "code",
   "execution_count": 33,
   "metadata": {},
   "outputs": [],
   "source": [
    "df = df[['year', 'category', 'overallMotivation', 'firstname','surname', 'motivation', 'share']]"
   ]
  },
  {
   "cell_type": "code",
   "execution_count": 34,
   "metadata": {},
   "outputs": [
    {
     "data": {
      "text/html": [
       "<div>\n",
       "<style scoped>\n",
       "    .dataframe tbody tr th:only-of-type {\n",
       "        vertical-align: middle;\n",
       "    }\n",
       "\n",
       "    .dataframe tbody tr th {\n",
       "        vertical-align: top;\n",
       "    }\n",
       "\n",
       "    .dataframe thead th {\n",
       "        text-align: right;\n",
       "    }\n",
       "</style>\n",
       "<table border=\"1\" class=\"dataframe\">\n",
       "  <thead>\n",
       "    <tr style=\"text-align: right;\">\n",
       "      <th></th>\n",
       "      <th>year</th>\n",
       "      <th>category</th>\n",
       "      <th>overallMotivation</th>\n",
       "      <th>firstname</th>\n",
       "      <th>surname</th>\n",
       "      <th>motivation</th>\n",
       "      <th>share</th>\n",
       "    </tr>\n",
       "    <tr>\n",
       "      <th>id</th>\n",
       "      <th></th>\n",
       "      <th></th>\n",
       "      <th></th>\n",
       "      <th></th>\n",
       "      <th></th>\n",
       "      <th></th>\n",
       "      <th></th>\n",
       "    </tr>\n",
       "  </thead>\n",
       "  <tbody>\n",
       "    <tr>\n",
       "      <th>976</th>\n",
       "      <td>2019</td>\n",
       "      <td>chemistry</td>\n",
       "      <td>NaN</td>\n",
       "      <td>John</td>\n",
       "      <td>Goodenough</td>\n",
       "      <td>for the development of lithium-ion batteries</td>\n",
       "      <td>3</td>\n",
       "    </tr>\n",
       "    <tr>\n",
       "      <th>977</th>\n",
       "      <td>2019</td>\n",
       "      <td>chemistry</td>\n",
       "      <td>NaN</td>\n",
       "      <td>M. Stanley</td>\n",
       "      <td>Whittingham</td>\n",
       "      <td>for the development of lithium-ion batteries</td>\n",
       "      <td>3</td>\n",
       "    </tr>\n",
       "    <tr>\n",
       "      <th>978</th>\n",
       "      <td>2019</td>\n",
       "      <td>chemistry</td>\n",
       "      <td>NaN</td>\n",
       "      <td>Akira</td>\n",
       "      <td>Yoshino</td>\n",
       "      <td>for the development of lithium-ion batteries</td>\n",
       "      <td>3</td>\n",
       "    </tr>\n",
       "    <tr>\n",
       "      <th>982</th>\n",
       "      <td>2019</td>\n",
       "      <td>economics</td>\n",
       "      <td>NaN</td>\n",
       "      <td>Abhijit</td>\n",
       "      <td>Banerjee</td>\n",
       "      <td>for their experimental approach to alleviating...</td>\n",
       "      <td>3</td>\n",
       "    </tr>\n",
       "    <tr>\n",
       "      <th>983</th>\n",
       "      <td>2019</td>\n",
       "      <td>economics</td>\n",
       "      <td>NaN</td>\n",
       "      <td>Esther</td>\n",
       "      <td>Duflo</td>\n",
       "      <td>for their experimental approach to alleviating...</td>\n",
       "      <td>3</td>\n",
       "    </tr>\n",
       "    <tr>\n",
       "      <th>...</th>\n",
       "      <td>...</td>\n",
       "      <td>...</td>\n",
       "      <td>...</td>\n",
       "      <td>...</td>\n",
       "      <td>...</td>\n",
       "      <td>...</td>\n",
       "      <td>...</td>\n",
       "    </tr>\n",
       "    <tr>\n",
       "      <th>569</th>\n",
       "      <td>1901</td>\n",
       "      <td>literature</td>\n",
       "      <td>NaN</td>\n",
       "      <td>Sully</td>\n",
       "      <td>Prudhomme</td>\n",
       "      <td>in special recognition of his poetic compositi...</td>\n",
       "      <td>1</td>\n",
       "    </tr>\n",
       "    <tr>\n",
       "      <th>462</th>\n",
       "      <td>1901</td>\n",
       "      <td>peace</td>\n",
       "      <td>NaN</td>\n",
       "      <td>Henry</td>\n",
       "      <td>Dunant</td>\n",
       "      <td>for his humanitarian efforts to help wounded s...</td>\n",
       "      <td>2</td>\n",
       "    </tr>\n",
       "    <tr>\n",
       "      <th>463</th>\n",
       "      <td>1901</td>\n",
       "      <td>peace</td>\n",
       "      <td>NaN</td>\n",
       "      <td>Frédéric</td>\n",
       "      <td>Passy</td>\n",
       "      <td>for his lifelong work for international peace ...</td>\n",
       "      <td>2</td>\n",
       "    </tr>\n",
       "    <tr>\n",
       "      <th>1</th>\n",
       "      <td>1901</td>\n",
       "      <td>physics</td>\n",
       "      <td>NaN</td>\n",
       "      <td>Wilhelm Conrad</td>\n",
       "      <td>Röntgen</td>\n",
       "      <td>in recognition of the extraordinary services h...</td>\n",
       "      <td>1</td>\n",
       "    </tr>\n",
       "    <tr>\n",
       "      <th>293</th>\n",
       "      <td>1901</td>\n",
       "      <td>medicine</td>\n",
       "      <td>NaN</td>\n",
       "      <td>Emil</td>\n",
       "      <td>von Behring</td>\n",
       "      <td>for his work on serum therapy, especially its ...</td>\n",
       "      <td>1</td>\n",
       "    </tr>\n",
       "  </tbody>\n",
       "</table>\n",
       "<p>950 rows × 7 columns</p>\n",
       "</div>"
      ],
      "text/plain": [
       "     year    category overallMotivation       firstname      surname  \\\n",
       "id                                                                     \n",
       "976  2019   chemistry               NaN            John   Goodenough   \n",
       "977  2019   chemistry               NaN      M. Stanley  Whittingham   \n",
       "978  2019   chemistry               NaN           Akira      Yoshino   \n",
       "982  2019   economics               NaN         Abhijit     Banerjee   \n",
       "983  2019   economics               NaN          Esther        Duflo   \n",
       "..    ...         ...               ...             ...          ...   \n",
       "569  1901  literature               NaN           Sully    Prudhomme   \n",
       "462  1901       peace               NaN           Henry       Dunant   \n",
       "463  1901       peace               NaN        Frédéric        Passy   \n",
       "1    1901     physics               NaN  Wilhelm Conrad      Röntgen   \n",
       "293  1901    medicine               NaN            Emil  von Behring   \n",
       "\n",
       "                                            motivation share  \n",
       "id                                                            \n",
       "976       for the development of lithium-ion batteries     3  \n",
       "977       for the development of lithium-ion batteries     3  \n",
       "978       for the development of lithium-ion batteries     3  \n",
       "982  for their experimental approach to alleviating...     3  \n",
       "983  for their experimental approach to alleviating...     3  \n",
       "..                                                 ...   ...  \n",
       "569  in special recognition of his poetic compositi...     1  \n",
       "462  for his humanitarian efforts to help wounded s...     2  \n",
       "463  for his lifelong work for international peace ...     2  \n",
       "1    in recognition of the extraordinary services h...     1  \n",
       "293  for his work on serum therapy, especially its ...     1  \n",
       "\n",
       "[950 rows x 7 columns]"
      ]
     },
     "execution_count": 34,
     "metadata": {},
     "output_type": "execute_result"
    }
   ],
   "source": [
    "df"
   ]
  },
  {
   "cell_type": "markdown",
   "metadata": {},
   "source": [
    "<h4>Addressing sparse columns</h4>"
   ]
  },
  {
   "cell_type": "code",
   "execution_count": 35,
   "metadata": {},
   "outputs": [
    {
     "name": "stdout",
     "output_type": "stream",
     "text": [
      "<class 'pandas.core.frame.DataFrame'>\n",
      "Int64Index: 950 entries, 976 to 293\n",
      "Data columns (total 7 columns):\n",
      " #   Column             Non-Null Count  Dtype \n",
      "---  ------             --------------  ----- \n",
      " 0   year               950 non-null    object\n",
      " 1   category           950 non-null    object\n",
      " 2   overallMotivation  20 non-null     object\n",
      " 3   firstname          950 non-null    object\n",
      " 4   surname            921 non-null    object\n",
      " 5   motivation         950 non-null    object\n",
      " 6   share              950 non-null    object\n",
      "dtypes: object(7)\n",
      "memory usage: 59.4+ KB\n"
     ]
    }
   ],
   "source": [
    "df.info()"
   ]
  },
  {
   "cell_type": "code",
   "execution_count": 36,
   "metadata": {},
   "outputs": [
    {
     "data": {
      "text/plain": [
       "NaN                                                                                                                 930\n",
       "for the development of methods for identification and structure analyses of biological macromolecules                 3\n",
       "for contributions to our understanding of the evolution of the universe and Earth’s place in the cosmos               3\n",
       "for groundbreaking inventions in the field of laser physics                                                           3\n",
       "for basic work on information and communication technology                                                            3\n",
       "for discoveries concerning channels in cell membranes                                                                 2\n",
       "for pioneering contributions to the development of neutron scattering techniques for studies of condensed matter      2\n",
       "for contributions to the developments of methods within DNA-based chemistry                                           2\n",
       "for pioneering experimental contributions to lepton physics                                                           2\n",
       "Name: overallMotivation, dtype: int64"
      ]
     },
     "execution_count": 36,
     "metadata": {},
     "output_type": "execute_result"
    }
   ],
   "source": [
    "df.overallMotivation.value_counts(dropna=False)"
   ]
  },
  {
   "cell_type": "markdown",
   "metadata": {},
   "source": [
    "<p>We see that motivation is split up across two columns. In some cases it appears that when more than one person shared the award they may have had different motivations. We will concatenate the two fields.</p>"
   ]
  },
  {
   "cell_type": "code",
   "execution_count": 37,
   "metadata": {},
   "outputs": [
    {
     "data": {
      "text/html": [
       "<div>\n",
       "<style scoped>\n",
       "    .dataframe tbody tr th:only-of-type {\n",
       "        vertical-align: middle;\n",
       "    }\n",
       "\n",
       "    .dataframe tbody tr th {\n",
       "        vertical-align: top;\n",
       "    }\n",
       "\n",
       "    .dataframe thead th {\n",
       "        text-align: right;\n",
       "    }\n",
       "</style>\n",
       "<table border=\"1\" class=\"dataframe\">\n",
       "  <thead>\n",
       "    <tr style=\"text-align: right;\">\n",
       "      <th></th>\n",
       "      <th>year</th>\n",
       "      <th>category</th>\n",
       "      <th>overallMotivation</th>\n",
       "      <th>firstname</th>\n",
       "      <th>surname</th>\n",
       "      <th>motivation</th>\n",
       "      <th>share</th>\n",
       "    </tr>\n",
       "    <tr>\n",
       "      <th>id</th>\n",
       "      <th></th>\n",
       "      <th></th>\n",
       "      <th></th>\n",
       "      <th></th>\n",
       "      <th></th>\n",
       "      <th></th>\n",
       "      <th></th>\n",
       "    </tr>\n",
       "  </thead>\n",
       "  <tbody>\n",
       "    <tr>\n",
       "      <th>973</th>\n",
       "      <td>2019</td>\n",
       "      <td>physics</td>\n",
       "      <td>for contributions to our understanding of the ...</td>\n",
       "      <td>James</td>\n",
       "      <td>Peebles</td>\n",
       "      <td>for theoretical discoveries in physical cosmology</td>\n",
       "      <td>2</td>\n",
       "    </tr>\n",
       "    <tr>\n",
       "      <th>974</th>\n",
       "      <td>2019</td>\n",
       "      <td>physics</td>\n",
       "      <td>for contributions to our understanding of the ...</td>\n",
       "      <td>Michel</td>\n",
       "      <td>Mayor</td>\n",
       "      <td>for the discovery of an exoplanet orbiting a s...</td>\n",
       "      <td>4</td>\n",
       "    </tr>\n",
       "    <tr>\n",
       "      <th>975</th>\n",
       "      <td>2019</td>\n",
       "      <td>physics</td>\n",
       "      <td>for contributions to our understanding of the ...</td>\n",
       "      <td>Didier</td>\n",
       "      <td>Queloz</td>\n",
       "      <td>for the discovery of an exoplanet orbiting a s...</td>\n",
       "      <td>4</td>\n",
       "    </tr>\n",
       "    <tr>\n",
       "      <th>960</th>\n",
       "      <td>2018</td>\n",
       "      <td>physics</td>\n",
       "      <td>for groundbreaking inventions in the field of ...</td>\n",
       "      <td>Arthur</td>\n",
       "      <td>Ashkin</td>\n",
       "      <td>for the optical tweezers and their application...</td>\n",
       "      <td>2</td>\n",
       "    </tr>\n",
       "    <tr>\n",
       "      <th>961</th>\n",
       "      <td>2018</td>\n",
       "      <td>physics</td>\n",
       "      <td>for groundbreaking inventions in the field of ...</td>\n",
       "      <td>Gérard</td>\n",
       "      <td>Mourou</td>\n",
       "      <td>for their method of generating high-intensity,...</td>\n",
       "      <td>4</td>\n",
       "    </tr>\n",
       "    <tr>\n",
       "      <th>962</th>\n",
       "      <td>2018</td>\n",
       "      <td>physics</td>\n",
       "      <td>for groundbreaking inventions in the field of ...</td>\n",
       "      <td>Donna</td>\n",
       "      <td>Strickland</td>\n",
       "      <td>for their method of generating high-intensity,...</td>\n",
       "      <td>4</td>\n",
       "    </tr>\n",
       "    <tr>\n",
       "      <th>769</th>\n",
       "      <td>2003</td>\n",
       "      <td>chemistry</td>\n",
       "      <td>for discoveries concerning channels in cell me...</td>\n",
       "      <td>Peter</td>\n",
       "      <td>Agre</td>\n",
       "      <td>for the discovery of water channels</td>\n",
       "      <td>2</td>\n",
       "    </tr>\n",
       "    <tr>\n",
       "      <th>770</th>\n",
       "      <td>2003</td>\n",
       "      <td>chemistry</td>\n",
       "      <td>for discoveries concerning channels in cell me...</td>\n",
       "      <td>Roderick</td>\n",
       "      <td>MacKinnon</td>\n",
       "      <td>for structural and mechanistic studies of ion ...</td>\n",
       "      <td>2</td>\n",
       "    </tr>\n",
       "    <tr>\n",
       "      <th>756</th>\n",
       "      <td>2002</td>\n",
       "      <td>chemistry</td>\n",
       "      <td>for the development of methods for identificat...</td>\n",
       "      <td>John B.</td>\n",
       "      <td>Fenn</td>\n",
       "      <td>for their development of soft desorption ionis...</td>\n",
       "      <td>4</td>\n",
       "    </tr>\n",
       "    <tr>\n",
       "      <th>757</th>\n",
       "      <td>2002</td>\n",
       "      <td>chemistry</td>\n",
       "      <td>for the development of methods for identificat...</td>\n",
       "      <td>Koichi</td>\n",
       "      <td>Tanaka</td>\n",
       "      <td>for their development of soft desorption ionis...</td>\n",
       "      <td>4</td>\n",
       "    </tr>\n",
       "    <tr>\n",
       "      <th>758</th>\n",
       "      <td>2002</td>\n",
       "      <td>chemistry</td>\n",
       "      <td>for the development of methods for identificat...</td>\n",
       "      <td>Kurt</td>\n",
       "      <td>Wüthrich</td>\n",
       "      <td>for his development of nuclear magnetic resona...</td>\n",
       "      <td>2</td>\n",
       "    </tr>\n",
       "    <tr>\n",
       "      <th>726</th>\n",
       "      <td>2000</td>\n",
       "      <td>physics</td>\n",
       "      <td>for basic work on information and communicatio...</td>\n",
       "      <td>Zhores</td>\n",
       "      <td>Alferov</td>\n",
       "      <td>for developing semiconductor heterostructures ...</td>\n",
       "      <td>4</td>\n",
       "    </tr>\n",
       "    <tr>\n",
       "      <th>727</th>\n",
       "      <td>2000</td>\n",
       "      <td>physics</td>\n",
       "      <td>for basic work on information and communicatio...</td>\n",
       "      <td>Herbert</td>\n",
       "      <td>Kroemer</td>\n",
       "      <td>for developing semiconductor heterostructures ...</td>\n",
       "      <td>4</td>\n",
       "    </tr>\n",
       "    <tr>\n",
       "      <th>728</th>\n",
       "      <td>2000</td>\n",
       "      <td>physics</td>\n",
       "      <td>for basic work on information and communicatio...</td>\n",
       "      <td>Jack</td>\n",
       "      <td>Kilby</td>\n",
       "      <td>for his part in the invention of the integrate...</td>\n",
       "      <td>2</td>\n",
       "    </tr>\n",
       "    <tr>\n",
       "      <th>147</th>\n",
       "      <td>1995</td>\n",
       "      <td>physics</td>\n",
       "      <td>for pioneering experimental contributions to l...</td>\n",
       "      <td>Martin L.</td>\n",
       "      <td>Perl</td>\n",
       "      <td>for the discovery of the tau lepton</td>\n",
       "      <td>2</td>\n",
       "    </tr>\n",
       "    <tr>\n",
       "      <th>148</th>\n",
       "      <td>1995</td>\n",
       "      <td>physics</td>\n",
       "      <td>for pioneering experimental contributions to l...</td>\n",
       "      <td>Frederick</td>\n",
       "      <td>Reines</td>\n",
       "      <td>for the detection of the neutrino</td>\n",
       "      <td>2</td>\n",
       "    </tr>\n",
       "    <tr>\n",
       "      <th>145</th>\n",
       "      <td>1994</td>\n",
       "      <td>physics</td>\n",
       "      <td>for pioneering contributions to the developmen...</td>\n",
       "      <td>Bertram N.</td>\n",
       "      <td>Brockhouse</td>\n",
       "      <td>for the development of neutron spectroscopy</td>\n",
       "      <td>2</td>\n",
       "    </tr>\n",
       "    <tr>\n",
       "      <th>146</th>\n",
       "      <td>1994</td>\n",
       "      <td>physics</td>\n",
       "      <td>for pioneering contributions to the developmen...</td>\n",
       "      <td>Clifford G.</td>\n",
       "      <td>Shull</td>\n",
       "      <td>for the development of the neutron diffraction...</td>\n",
       "      <td>2</td>\n",
       "    </tr>\n",
       "    <tr>\n",
       "      <th>278</th>\n",
       "      <td>1993</td>\n",
       "      <td>chemistry</td>\n",
       "      <td>for contributions to the developments of metho...</td>\n",
       "      <td>Kary B.</td>\n",
       "      <td>Mullis</td>\n",
       "      <td>for his invention of the polymerase chain reac...</td>\n",
       "      <td>2</td>\n",
       "    </tr>\n",
       "    <tr>\n",
       "      <th>279</th>\n",
       "      <td>1993</td>\n",
       "      <td>chemistry</td>\n",
       "      <td>for contributions to the developments of metho...</td>\n",
       "      <td>Michael</td>\n",
       "      <td>Smith</td>\n",
       "      <td>for his fundamental contributions to the estab...</td>\n",
       "      <td>2</td>\n",
       "    </tr>\n",
       "  </tbody>\n",
       "</table>\n",
       "</div>"
      ],
      "text/plain": [
       "     year   category                                  overallMotivation  \\\n",
       "id                                                                        \n",
       "973  2019    physics  for contributions to our understanding of the ...   \n",
       "974  2019    physics  for contributions to our understanding of the ...   \n",
       "975  2019    physics  for contributions to our understanding of the ...   \n",
       "960  2018    physics  for groundbreaking inventions in the field of ...   \n",
       "961  2018    physics  for groundbreaking inventions in the field of ...   \n",
       "962  2018    physics  for groundbreaking inventions in the field of ...   \n",
       "769  2003  chemistry  for discoveries concerning channels in cell me...   \n",
       "770  2003  chemistry  for discoveries concerning channels in cell me...   \n",
       "756  2002  chemistry  for the development of methods for identificat...   \n",
       "757  2002  chemistry  for the development of methods for identificat...   \n",
       "758  2002  chemistry  for the development of methods for identificat...   \n",
       "726  2000    physics  for basic work on information and communicatio...   \n",
       "727  2000    physics  for basic work on information and communicatio...   \n",
       "728  2000    physics  for basic work on information and communicatio...   \n",
       "147  1995    physics  for pioneering experimental contributions to l...   \n",
       "148  1995    physics  for pioneering experimental contributions to l...   \n",
       "145  1994    physics  for pioneering contributions to the developmen...   \n",
       "146  1994    physics  for pioneering contributions to the developmen...   \n",
       "278  1993  chemistry  for contributions to the developments of metho...   \n",
       "279  1993  chemistry  for contributions to the developments of metho...   \n",
       "\n",
       "       firstname     surname  \\\n",
       "id                             \n",
       "973        James     Peebles   \n",
       "974       Michel       Mayor   \n",
       "975       Didier      Queloz   \n",
       "960       Arthur      Ashkin   \n",
       "961       Gérard      Mourou   \n",
       "962        Donna  Strickland   \n",
       "769        Peter        Agre   \n",
       "770     Roderick   MacKinnon   \n",
       "756      John B.        Fenn   \n",
       "757       Koichi      Tanaka   \n",
       "758         Kurt    Wüthrich   \n",
       "726       Zhores     Alferov   \n",
       "727      Herbert     Kroemer   \n",
       "728         Jack       Kilby   \n",
       "147    Martin L.        Perl   \n",
       "148    Frederick      Reines   \n",
       "145   Bertram N.  Brockhouse   \n",
       "146  Clifford G.       Shull   \n",
       "278      Kary B.      Mullis   \n",
       "279      Michael       Smith   \n",
       "\n",
       "                                            motivation share  \n",
       "id                                                            \n",
       "973  for theoretical discoveries in physical cosmology     2  \n",
       "974  for the discovery of an exoplanet orbiting a s...     4  \n",
       "975  for the discovery of an exoplanet orbiting a s...     4  \n",
       "960  for the optical tweezers and their application...     2  \n",
       "961  for their method of generating high-intensity,...     4  \n",
       "962  for their method of generating high-intensity,...     4  \n",
       "769                for the discovery of water channels     2  \n",
       "770  for structural and mechanistic studies of ion ...     2  \n",
       "756  for their development of soft desorption ionis...     4  \n",
       "757  for their development of soft desorption ionis...     4  \n",
       "758  for his development of nuclear magnetic resona...     2  \n",
       "726  for developing semiconductor heterostructures ...     4  \n",
       "727  for developing semiconductor heterostructures ...     4  \n",
       "728  for his part in the invention of the integrate...     2  \n",
       "147                for the discovery of the tau lepton     2  \n",
       "148                  for the detection of the neutrino     2  \n",
       "145        for the development of neutron spectroscopy     2  \n",
       "146  for the development of the neutron diffraction...     2  \n",
       "278  for his invention of the polymerase chain reac...     2  \n",
       "279  for his fundamental contributions to the estab...     2  "
      ]
     },
     "execution_count": 37,
     "metadata": {},
     "output_type": "execute_result"
    }
   ],
   "source": [
    "df[df['overallMotivation'].notna()]"
   ]
  },
  {
   "cell_type": "code",
   "execution_count": 38,
   "metadata": {},
   "outputs": [],
   "source": [
    "df['motivation'] = df['overallMotivation'].fillna('') +  df['motivation'] "
   ]
  },
  {
   "cell_type": "code",
   "execution_count": 40,
   "metadata": {},
   "outputs": [
    {
     "name": "stdout",
     "output_type": "stream",
     "text": [
      "<class 'pandas.core.frame.DataFrame'>\n",
      "Int64Index: 950 entries, 976 to 293\n",
      "Data columns (total 7 columns):\n",
      " #   Column             Non-Null Count  Dtype \n",
      "---  ------             --------------  ----- \n",
      " 0   year               950 non-null    int64 \n",
      " 1   category           950 non-null    object\n",
      " 2   overallMotivation  20 non-null     object\n",
      " 3   firstname          950 non-null    object\n",
      " 4   surname            921 non-null    object\n",
      " 5   motivation         950 non-null    object\n",
      " 6   share              950 non-null    int64 \n",
      "dtypes: int64(2), object(5)\n",
      "memory usage: 59.4+ KB\n"
     ]
    }
   ],
   "source": [
    "df.info()"
   ]
  },
  {
   "cell_type": "code",
   "execution_count": 41,
   "metadata": {},
   "outputs": [],
   "source": [
    "df.drop(columns=['overallMotivation'], inplace=True)"
   ]
  },
  {
   "cell_type": "code",
   "execution_count": 42,
   "metadata": {},
   "outputs": [
    {
     "name": "stdout",
     "output_type": "stream",
     "text": [
      "<class 'pandas.core.frame.DataFrame'>\n",
      "Int64Index: 950 entries, 976 to 293\n",
      "Data columns (total 6 columns):\n",
      " #   Column      Non-Null Count  Dtype \n",
      "---  ------      --------------  ----- \n",
      " 0   year        950 non-null    int64 \n",
      " 1   category    950 non-null    object\n",
      " 2   firstname   950 non-null    object\n",
      " 3   surname     921 non-null    object\n",
      " 4   motivation  950 non-null    object\n",
      " 5   share       950 non-null    int64 \n",
      "dtypes: int64(2), object(4)\n",
      "memory usage: 52.0+ KB\n"
     ]
    }
   ],
   "source": [
    "df.info()"
   ]
  },
  {
   "cell_type": "code",
   "execution_count": 43,
   "metadata": {},
   "outputs": [],
   "source": [
    "df = df.sort_index()"
   ]
  },
  {
   "cell_type": "code",
   "execution_count": 44,
   "metadata": {},
   "outputs": [
    {
     "data": {
      "text/html": [
       "<div>\n",
       "<style scoped>\n",
       "    .dataframe tbody tr th:only-of-type {\n",
       "        vertical-align: middle;\n",
       "    }\n",
       "\n",
       "    .dataframe tbody tr th {\n",
       "        vertical-align: top;\n",
       "    }\n",
       "\n",
       "    .dataframe thead th {\n",
       "        text-align: right;\n",
       "    }\n",
       "</style>\n",
       "<table border=\"1\" class=\"dataframe\">\n",
       "  <thead>\n",
       "    <tr style=\"text-align: right;\">\n",
       "      <th></th>\n",
       "      <th>year</th>\n",
       "      <th>category</th>\n",
       "      <th>firstname</th>\n",
       "      <th>surname</th>\n",
       "      <th>motivation</th>\n",
       "      <th>share</th>\n",
       "    </tr>\n",
       "    <tr>\n",
       "      <th>id</th>\n",
       "      <th></th>\n",
       "      <th></th>\n",
       "      <th></th>\n",
       "      <th></th>\n",
       "      <th></th>\n",
       "      <th></th>\n",
       "    </tr>\n",
       "  </thead>\n",
       "  <tbody>\n",
       "    <tr>\n",
       "      <th>1</th>\n",
       "      <td>1901</td>\n",
       "      <td>physics</td>\n",
       "      <td>Wilhelm Conrad</td>\n",
       "      <td>Röntgen</td>\n",
       "      <td>in recognition of the extraordinary services h...</td>\n",
       "      <td>1</td>\n",
       "    </tr>\n",
       "    <tr>\n",
       "      <th>2</th>\n",
       "      <td>1902</td>\n",
       "      <td>physics</td>\n",
       "      <td>Hendrik A.</td>\n",
       "      <td>Lorentz</td>\n",
       "      <td>in recognition of the extraordinary service th...</td>\n",
       "      <td>2</td>\n",
       "    </tr>\n",
       "    <tr>\n",
       "      <th>3</th>\n",
       "      <td>1902</td>\n",
       "      <td>physics</td>\n",
       "      <td>Pieter</td>\n",
       "      <td>Zeeman</td>\n",
       "      <td>in recognition of the extraordinary service th...</td>\n",
       "      <td>2</td>\n",
       "    </tr>\n",
       "    <tr>\n",
       "      <th>4</th>\n",
       "      <td>1903</td>\n",
       "      <td>physics</td>\n",
       "      <td>Henri</td>\n",
       "      <td>Becquerel</td>\n",
       "      <td>in recognition of the extraordinary services h...</td>\n",
       "      <td>2</td>\n",
       "    </tr>\n",
       "    <tr>\n",
       "      <th>5</th>\n",
       "      <td>1903</td>\n",
       "      <td>physics</td>\n",
       "      <td>Pierre</td>\n",
       "      <td>Curie</td>\n",
       "      <td>in recognition of the extraordinary services t...</td>\n",
       "      <td>4</td>\n",
       "    </tr>\n",
       "  </tbody>\n",
       "</table>\n",
       "</div>"
      ],
      "text/plain": [
       "    year category       firstname    surname  \\\n",
       "id                                             \n",
       "1   1901  physics  Wilhelm Conrad    Röntgen   \n",
       "2   1902  physics      Hendrik A.    Lorentz   \n",
       "3   1902  physics          Pieter     Zeeman   \n",
       "4   1903  physics           Henri  Becquerel   \n",
       "5   1903  physics          Pierre      Curie   \n",
       "\n",
       "                                           motivation  share  \n",
       "id                                                            \n",
       "1   in recognition of the extraordinary services h...      1  \n",
       "2   in recognition of the extraordinary service th...      2  \n",
       "3   in recognition of the extraordinary service th...      2  \n",
       "4   in recognition of the extraordinary services h...      2  \n",
       "5   in recognition of the extraordinary services t...      4  "
      ]
     },
     "execution_count": 44,
     "metadata": {},
     "output_type": "execute_result"
    }
   ],
   "source": [
    "df.head()"
   ]
  },
  {
   "cell_type": "code",
   "execution_count": 45,
   "metadata": {},
   "outputs": [
    {
     "data": {
      "text/html": [
       "<div>\n",
       "<style scoped>\n",
       "    .dataframe tbody tr th:only-of-type {\n",
       "        vertical-align: middle;\n",
       "    }\n",
       "\n",
       "    .dataframe tbody tr th {\n",
       "        vertical-align: top;\n",
       "    }\n",
       "\n",
       "    .dataframe thead th {\n",
       "        text-align: right;\n",
       "    }\n",
       "</style>\n",
       "<table border=\"1\" class=\"dataframe\">\n",
       "  <thead>\n",
       "    <tr style=\"text-align: right;\">\n",
       "      <th></th>\n",
       "      <th>year</th>\n",
       "      <th>category</th>\n",
       "      <th>firstname</th>\n",
       "      <th>surname</th>\n",
       "      <th>motivation</th>\n",
       "      <th>share</th>\n",
       "    </tr>\n",
       "    <tr>\n",
       "      <th>id</th>\n",
       "      <th></th>\n",
       "      <th></th>\n",
       "      <th></th>\n",
       "      <th></th>\n",
       "      <th></th>\n",
       "      <th></th>\n",
       "    </tr>\n",
       "  </thead>\n",
       "  <tbody>\n",
       "    <tr>\n",
       "      <th>980</th>\n",
       "      <td>2019</td>\n",
       "      <td>literature</td>\n",
       "      <td>Peter</td>\n",
       "      <td>Handke</td>\n",
       "      <td>for an influential work that with linguistic i...</td>\n",
       "      <td>1</td>\n",
       "    </tr>\n",
       "    <tr>\n",
       "      <th>981</th>\n",
       "      <td>2019</td>\n",
       "      <td>peace</td>\n",
       "      <td>Abiy</td>\n",
       "      <td>Ahmed Ali</td>\n",
       "      <td>for his efforts to achieve peace and internati...</td>\n",
       "      <td>1</td>\n",
       "    </tr>\n",
       "    <tr>\n",
       "      <th>982</th>\n",
       "      <td>2019</td>\n",
       "      <td>economics</td>\n",
       "      <td>Abhijit</td>\n",
       "      <td>Banerjee</td>\n",
       "      <td>for their experimental approach to alleviating...</td>\n",
       "      <td>3</td>\n",
       "    </tr>\n",
       "    <tr>\n",
       "      <th>983</th>\n",
       "      <td>2019</td>\n",
       "      <td>economics</td>\n",
       "      <td>Esther</td>\n",
       "      <td>Duflo</td>\n",
       "      <td>for their experimental approach to alleviating...</td>\n",
       "      <td>3</td>\n",
       "    </tr>\n",
       "    <tr>\n",
       "      <th>984</th>\n",
       "      <td>2019</td>\n",
       "      <td>economics</td>\n",
       "      <td>Michael</td>\n",
       "      <td>Kremer</td>\n",
       "      <td>for their experimental approach to alleviating...</td>\n",
       "      <td>3</td>\n",
       "    </tr>\n",
       "  </tbody>\n",
       "</table>\n",
       "</div>"
      ],
      "text/plain": [
       "     year    category firstname    surname  \\\n",
       "id                                           \n",
       "980  2019  literature     Peter     Handke   \n",
       "981  2019       peace      Abiy  Ahmed Ali   \n",
       "982  2019   economics   Abhijit   Banerjee   \n",
       "983  2019   economics    Esther      Duflo   \n",
       "984  2019   economics   Michael     Kremer   \n",
       "\n",
       "                                            motivation  share  \n",
       "id                                                             \n",
       "980  for an influential work that with linguistic i...      1  \n",
       "981  for his efforts to achieve peace and internati...      1  \n",
       "982  for their experimental approach to alleviating...      3  \n",
       "983  for their experimental approach to alleviating...      3  \n",
       "984  for their experimental approach to alleviating...      3  "
      ]
     },
     "execution_count": 45,
     "metadata": {},
     "output_type": "execute_result"
    }
   ],
   "source": [
    "df.tail()"
   ]
  },
  {
   "cell_type": "markdown",
   "metadata": {},
   "source": [
    "<h3>Conclusion</h3>\n",
    "<h4>We now have a succinct data set of nobel laureates, properly formatted and cleaned.</h4>"
   ]
  },
  {
   "cell_type": "code",
   "execution_count": null,
   "metadata": {},
   "outputs": [],
   "source": []
  }
 ],
 "metadata": {
  "kernelspec": {
   "display_name": "Python 3",
   "language": "python",
   "name": "python3"
  },
  "language_info": {
   "codemirror_mode": {
    "name": "ipython",
    "version": 3
   },
   "file_extension": ".py",
   "mimetype": "text/x-python",
   "name": "python",
   "nbconvert_exporter": "python",
   "pygments_lexer": "ipython3",
   "version": "3.8.3"
  }
 },
 "nbformat": 4,
 "nbformat_minor": 4
}
